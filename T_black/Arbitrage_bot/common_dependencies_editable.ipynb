{
 "cells": [
  {
   "cell_type": "code",
   "execution_count": null,
   "id": "19ed0771",
   "metadata": {},
   "outputs": [],
   "source": [
    "\n",
    "%%writefile \n",
    "import requests\n",
    "import json\n",
    "from datetime import datetime\n",
    "from exchange_markets import exchange_market_lists\n",
    "from function_map import function_file_mapping, tokens_to_fetch\n",
    "\n"
   ]
  }
 ],
 "metadata": {
  "kernelspec": {
   "display_name": "Python 3 (ipykernel)",
   "language": "python",
   "name": "python3"
  },
  "language_info": {
   "codemirror_mode": {
    "name": "ipython",
    "version": 3
   },
   "file_extension": ".py",
   "mimetype": "text/x-python",
   "name": "python",
   "nbconvert_exporter": "python",
   "pygments_lexer": "ipython3",
   "version": "3.11.4"
  }
 },
 "nbformat": 4,
 "nbformat_minor": 5
}
