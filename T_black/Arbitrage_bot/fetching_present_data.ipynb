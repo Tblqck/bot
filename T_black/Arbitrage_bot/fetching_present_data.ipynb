{
 "cells": [
  {
   "cell_type": "code",
   "execution_count": 2,
   "id": "5f8714b7",
   "metadata": {},
   "outputs": [
    {
     "ename": "ModuleNotFoundError",
     "evalue": "No module named 'Binance_functions'",
     "output_type": "error",
     "traceback": [
      "\u001b[1;31m---------------------------------------------------------------------------\u001b[0m",
      "\u001b[1;31mModuleNotFoundError\u001b[0m                       Traceback (most recent call last)",
      "Cell \u001b[1;32mIn[2], line 25\u001b[0m\n\u001b[0;32m     19\u001b[0m function_file_mapping \u001b[38;5;241m=\u001b[39m {\n\u001b[0;32m     20\u001b[0m     \u001b[38;5;124m'\u001b[39m\u001b[38;5;124mBinance_functions.ipynb\u001b[39m\u001b[38;5;124m'\u001b[39m: [\u001b[38;5;124m'\u001b[39m\u001b[38;5;124mfetch_present_data_and_save_binance\u001b[39m\u001b[38;5;124m'\u001b[39m],\n\u001b[0;32m     21\u001b[0m     \u001b[38;5;124m'\u001b[39m\u001b[38;5;124mBitmart_functions.ipynb\u001b[39m\u001b[38;5;124m'\u001b[39m: [\u001b[38;5;124m'\u001b[39m\u001b[38;5;124mfetch_present_data_and_save_bitmart\u001b[39m\u001b[38;5;124m'\u001b[39m]\n\u001b[0;32m     22\u001b[0m }\n\u001b[0;32m     24\u001b[0m \u001b[38;5;66;03m# Call the function to execute relevant functions (for testing)\u001b[39;00m\n\u001b[1;32m---> 25\u001b[0m execute_present_data_functions(tokens_to_fetch, function_file_mapping)\n",
      "Cell \u001b[1;32mIn[2], line 7\u001b[0m, in \u001b[0;36mexecute_present_data_functions\u001b[1;34m(tokens, function_mapping)\u001b[0m\n\u001b[0;32m      5\u001b[0m \u001b[38;5;28;01mfor\u001b[39;00m token \u001b[38;5;129;01min\u001b[39;00m tokens:\n\u001b[0;32m      6\u001b[0m     \u001b[38;5;28;01mfor\u001b[39;00m function_file, relevant_functions \u001b[38;5;129;01min\u001b[39;00m function_mapping\u001b[38;5;241m.\u001b[39mitems():\n\u001b[1;32m----> 7\u001b[0m         module \u001b[38;5;241m=\u001b[39m importlib\u001b[38;5;241m.\u001b[39mimport_module(function_file\u001b[38;5;241m.\u001b[39mreplace(\u001b[38;5;124m'\u001b[39m\u001b[38;5;124m.ipynb\u001b[39m\u001b[38;5;124m'\u001b[39m, \u001b[38;5;124m'\u001b[39m\u001b[38;5;124m'\u001b[39m))\n\u001b[0;32m      9\u001b[0m         \u001b[38;5;28;01mfor\u001b[39;00m function_name \u001b[38;5;129;01min\u001b[39;00m relevant_functions:\n\u001b[0;32m     10\u001b[0m             \u001b[38;5;28;01mtry\u001b[39;00m:\n",
      "File \u001b[1;32m~\\anaconda3\\Lib\\importlib\\__init__.py:126\u001b[0m, in \u001b[0;36mimport_module\u001b[1;34m(name, package)\u001b[0m\n\u001b[0;32m    124\u001b[0m             \u001b[38;5;28;01mbreak\u001b[39;00m\n\u001b[0;32m    125\u001b[0m         level \u001b[38;5;241m+\u001b[39m\u001b[38;5;241m=\u001b[39m \u001b[38;5;241m1\u001b[39m\n\u001b[1;32m--> 126\u001b[0m \u001b[38;5;28;01mreturn\u001b[39;00m _bootstrap\u001b[38;5;241m.\u001b[39m_gcd_import(name[level:], package, level)\n",
      "File \u001b[1;32m<frozen importlib._bootstrap>:1204\u001b[0m, in \u001b[0;36m_gcd_import\u001b[1;34m(name, package, level)\u001b[0m\n",
      "File \u001b[1;32m<frozen importlib._bootstrap>:1176\u001b[0m, in \u001b[0;36m_find_and_load\u001b[1;34m(name, import_)\u001b[0m\n",
      "File \u001b[1;32m<frozen importlib._bootstrap>:1140\u001b[0m, in \u001b[0;36m_find_and_load_unlocked\u001b[1;34m(name, import_)\u001b[0m\n",
      "\u001b[1;31mModuleNotFoundError\u001b[0m: No module named 'Binance_functions'"
     ]
    }
   ],
   "source": [
    "import importlib\n",
    "\n",
    "# Define a function to execute relevant functions for present data\n",
    "def execute_present_data_functions(tokens, function_mapping):\n",
    "    for token in tokens:\n",
    "        for function_file, relevant_functions in function_mapping.items():\n",
    "            module = importlib.import_module(function_file.replace('.ipynb', ''))\n",
    "\n",
    "            for function_name in relevant_functions:\n",
    "                try:\n",
    "                    function_to_call = getattr(module, function_name)\n",
    "                    function_to_call(token)\n",
    "                    print(f\"Fetched present data for {token} using {function_name} in {function_file}\")\n",
    "                except AttributeError:\n",
    "                    print(f\"Function {function_name} not found in {function_file}\")\n",
    "\n",
    "# Define tokens and function file mapping (for testing)\n",
    "tokens_to_fetch = ['MATIC', 'QUICK']\n",
    "function_file_mapping = {\n",
    "    'Binance_functions.ipynb': ['fetch_present_data_and_save_binance'],\n",
    "    'Bitmart_functions.ipynb': ['fetch_present_data_and_save_bitmart']\n",
    "}\n",
    "\n",
    "# Call the function to execute relevant functions (for testing)\n",
    "execute_present_data_functions(tokens_to_fetch, function_file_mapping)\n"
   ]
  },
  {
   "cell_type": "code",
   "execution_count": null,
   "id": "7b162e3a",
   "metadata": {},
   "outputs": [],
   "source": []
  }
 ],
 "metadata": {
  "kernelspec": {
   "display_name": "Python 3 (ipykernel)",
   "language": "python",
   "name": "python3"
  },
  "language_info": {
   "codemirror_mode": {
    "name": "ipython",
    "version": 3
   },
   "file_extension": ".py",
   "mimetype": "text/x-python",
   "name": "python",
   "nbconvert_exporter": "python",
   "pygments_lexer": "ipython3",
   "version": "3.11.4"
  }
 },
 "nbformat": 4,
 "nbformat_minor": 5
}
