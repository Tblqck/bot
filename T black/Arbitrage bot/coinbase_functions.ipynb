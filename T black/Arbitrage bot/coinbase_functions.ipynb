{
 "cells": [
  {
   "cell_type": "code",
   "execution_count": null,
   "id": "85c0950e",
   "metadata": {},
   "outputs": [],
   "source": []
  },
  {
   "cell_type": "code",
   "execution_count": 1,
   "id": "1b20a5a9",
   "metadata": {},
   "outputs": [
    {
     "name": "stdout",
     "output_type": "stream",
     "text": [
      "BADGER present data appended to market_data.json\n"
     ]
    }
   ],
   "source": [
    "import requests\n",
    "import json\n",
    "from datetime import datetime\n",
    "from exchange_markets import exchange_market_lists\n",
    "\n",
    "def fetch_present_data_and_save_coinbase(asset):\n",
    "    base_url = 'https://api.pro.coinbase.com/products/{}/ticker'.format(exchange_market_lists['coinbase'][asset])\n",
    "    response = requests.get(base_url)\n",
    "\n",
    "    if response.status_code == 200:\n",
    "        data = response.json()\n",
    "        present_data = {\n",
    "            'exchange': 'Coinbase',\n",
    "            'asset': asset,\n",
    "            'trading_pair': exchange_market_lists['coinbase'][asset],\n",
    "            'price': data['price'],\n",
    "            'volume': data['volume'],\n",
    "            'liquidity_score': None,\n",
    "            'fetch_time': datetime.now().strftime('%Y-%m-%d %H:%M:%S')\n",
    "        }\n",
    "\n",
    "        try:\n",
    "            # Load existing data from JSON file\n",
    "            with open('market_data.json', 'r') as market_data_file:\n",
    "                existing_data = json.load(market_data_file)\n",
    "        except (FileNotFoundError, json.JSONDecodeError):\n",
    "            existing_data = []\n",
    "\n",
    "        # Append the new present data to existing data\n",
    "        existing_data.append(present_data)\n",
    "\n",
    "        # Save the updated data to JSON file\n",
    "        with open('market_data.json', 'w') as market_data_file:\n",
    "            json.dump(existing_data, market_data_file, indent=4)\n",
    "            print(f'{asset} present data appended to market_data.json')\n",
    "    else:\n",
    "        print('Error occurred. Status Code:', response.status_code)\n",
    "\n",
    "if __name__ == '__main__':\n",
    "    asset_to_fetch = 'BADGER'  # Specify the asset you want to fetch data for\n",
    "    fetch_present_data_and_save_coinbase(asset_to_fetch)\n"
   ]
  },
  {
   "cell_type": "code",
   "execution_count": 8,
   "id": "b3f47230",
   "metadata": {},
   "outputs": [
    {
     "name": "stdout",
     "output_type": "stream",
     "text": [
      "Historical data for MATIC appended to his_market_data.json\n"
     ]
    }
   ],
   "source": [
    "import requests\n",
    "import json\n",
    "from datetime import datetime\n",
    "from exchange_markets import exchange_market_lists\n",
    "\n",
    "def fetch_historical_data_and_save_coinbase(asset):\n",
    "    interval = 86400  # 86400 seconds = 1 day\n",
    "    limit = 30  # Fetch 30 days of historical data\n",
    "    exchange = 'Coinbase'  # Specify the exchange name\n",
    "\n",
    "    symbol = exchange_market_lists['coinbase'][asset]  # Retrieve the symbol from the exchange_market_lists\n",
    "\n",
    "    base_url = f'https://api.pro.coinbase.com/products/{symbol}/candles'\n",
    "    params = {\n",
    "        'granularity': interval,\n",
    "        'limit': limit\n",
    "    }\n",
    "    response = requests.get(base_url, params=params)\n",
    "\n",
    "    if response.status_code == 200:\n",
    "        data = response.json()\n",
    "        historical_data = []\n",
    "\n",
    "        for entry in data:\n",
    "            timestamp = entry[0]\n",
    "            open_price = entry[3]\n",
    "            high_price = entry[2]\n",
    "            low_price = entry[1]\n",
    "            close_price = entry[4]\n",
    "\n",
    "            readable_timestamp = datetime.fromtimestamp(timestamp).strftime('%Y-%m-%d %H:%M:%S')\n",
    "            historical_data.append({\n",
    "                'exchange': exchange,\n",
    "                'asset': asset,\n",
    "                'trading_pair': symbol,\n",
    "                'timestamp': readable_timestamp,\n",
    "                'open': open_price,\n",
    "                'high': high_price,\n",
    "                'low': low_price,\n",
    "                'close': close_price\n",
    "            })\n",
    "\n",
    "        try:\n",
    "            # Load existing historical data from JSON file\n",
    "            with open('his_market_data.json', 'r') as his_market_data_file:\n",
    "                existing_data = json.load(his_market_data_file)\n",
    "        except (FileNotFoundError, json.JSONDecodeError):\n",
    "            existing_data = []\n",
    "\n",
    "        # Append the new historical data to existing data\n",
    "        existing_data.extend(historical_data)\n",
    "\n",
    "        # Save the updated data to JSON file\n",
    "        with open('his_market_data.json', 'w') as his_market_data_file:\n",
    "            json.dump(existing_data, his_market_data_file, indent=4)\n",
    "            print(f'Historical data for {asset} appended to his_market_data.json')\n",
    "    else:\n",
    "        print('Error occurred. Status Code:', response.status_code)\n",
    "\n",
    "if __name__ == '__main__':\n",
    "    asset_to_fetch = 'MATIC'  # Specify the asset you want to fetch data for\n",
    "    fetch_historical_data_and_save_coinbase(asset_to_fetch)\n"
   ]
  },
  {
   "cell_type": "code",
   "execution_count": null,
   "id": "3568bc5b",
   "metadata": {},
   "outputs": [],
   "source": []
  }
 ],
 "metadata": {
  "kernelspec": {
   "display_name": "Python 3 (ipykernel)",
   "language": "python",
   "name": "python3"
  },
  "language_info": {
   "codemirror_mode": {
    "name": "ipython",
    "version": 3
   },
   "file_extension": ".py",
   "mimetype": "text/x-python",
   "name": "python",
   "nbconvert_exporter": "python",
   "pygments_lexer": "ipython3",
   "version": "3.11.4"
  }
 },
 "nbformat": 4,
 "nbformat_minor": 5
}
