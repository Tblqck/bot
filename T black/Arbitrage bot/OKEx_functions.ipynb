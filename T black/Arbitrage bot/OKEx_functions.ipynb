{
 "cells": [
  {
   "cell_type": "code",
   "execution_count": 3,
   "id": "f6c6ae18",
   "metadata": {},
   "outputs": [
    {
     "name": "stdout",
     "output_type": "stream",
     "text": [
      "MATIC present data appended to market_data.json\n"
     ]
    }
   ],
   "source": [
    "import requests\n",
    "import json\n",
    "from exchange_markets import exchange_market_lists\n",
    "\n",
    "def fetch_present_data_and_save_okex(asset):\n",
    "    base_url = 'https://www.okex.com/api/v5/market/history-mark-price-candles'\n",
    "    trading_pair = exchange_market_lists['OKEx'][asset]\n",
    "    params = {'instId': trading_pair}\n",
    "    \n",
    "    response = requests.get(base_url, params=params)\n",
    "    \n",
    "    if response.status_code == 200:\n",
    "        data = response.json().get('data', [])\n",
    "        if data:\n",
    "            candle = data[0]\n",
    "            timestamp = candle[0]\n",
    "            open_price = candle[1]\n",
    "            high_price = candle[2]\n",
    "            low_price = candle[3]\n",
    "            close_price = candle[4]\n",
    "            volume = candle[5]  # Adding this line\n",
    "            \n",
    "            present_data = {\n",
    "                'exchange': 'OKEx',\n",
    "                'asset': asset,\n",
    "                'trading_pair': trading_pair,\n",
    "                'timestamp': timestamp,  # No need to convert to datetime\n",
    "                'open': open_price,\n",
    "                'high': high_price,\n",
    "                'low': low_price,\n",
    "                'close': close_price,\n",
    "                'volume': volume  # Adding this line\n",
    "            }\n",
    "\n",
    "            try:\n",
    "                # Load existing data from JSON file\n",
    "                with open('market_data.json', 'r') as market_data_file:\n",
    "                    existing_data = json.load(market_data_file)\n",
    "            except (FileNotFoundError, json.JSONDecodeError):\n",
    "                existing_data = []\n",
    "\n",
    "            # Append the new present data to existing data\n",
    "            existing_data.append(present_data)\n",
    "\n",
    "            # Save the updated data to JSON file\n",
    "            with open('market_data.json', 'w') as market_data_file:\n",
    "                json.dump(existing_data, market_data_file, indent=4)\n",
    "                print(f'{asset} present data appended to market_data.json')\n",
    "        else:\n",
    "            print(f\"No data found for {trading_pair} on OKEx.\")\n",
    "    else:\n",
    "        print('Error occurred. Status Code:', response.status_code)\n",
    "\n",
    "if __name__ == '__main__':\n",
    "    asset_to_fetch = 'MATIC'  # Specify the asset you want to fetch data for\n",
    "    fetch_present_data_and_save_okex(asset_to_fetch)\n"
   ]
  },
  {
   "cell_type": "code",
   "execution_count": null,
   "id": "a775c69e",
   "metadata": {},
   "outputs": [],
   "source": []
  },
  {
   "cell_type": "code",
   "execution_count": null,
   "id": "a1fa3ff6",
   "metadata": {},
   "outputs": [],
   "source": []
  },
  {
   "cell_type": "code",
   "execution_count": null,
   "id": "d1226ea3",
   "metadata": {},
   "outputs": [],
   "source": [
    "\n"
   ]
  },
  {
   "cell_type": "code",
   "execution_count": null,
   "id": "4b6b966a",
   "metadata": {},
   "outputs": [],
   "source": []
  }
 ],
 "metadata": {
  "kernelspec": {
   "display_name": "Python 3 (ipykernel)",
   "language": "python",
   "name": "python3"
  },
  "language_info": {
   "codemirror_mode": {
    "name": "ipython",
    "version": 3
   },
   "file_extension": ".py",
   "mimetype": "text/x-python",
   "name": "python",
   "nbconvert_exporter": "python",
   "pygments_lexer": "ipython3",
   "version": "3.11.4"
  }
 },
 "nbformat": 4,
 "nbformat_minor": 5
}
