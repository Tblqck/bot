{
 "cells": [
  {
   "cell_type": "code",
   "execution_count": null,
   "id": "a7cbd972",
   "metadata": {},
   "outputs": [],
   "source": [
    "{\n",
    "  \"functions\": [\n",
    "    {\n",
    "      \"name\": \"fetch_present_data_and_save\",\n",
    "      \"description\": \"Fetches the present data for a given asset and saves it to market_data.json\",\n",
    "      \"input_parameters\": [\n",
    "        \"asset (str) - The asset to fetch data for\"\n",
    "      ],\n",
    "      \"output\": \"None\"\n",
    "    },\n",
    "    {\n",
    "      \"name\": \"fetch_historical_data_and_save\",\n",
    "      \"description\": \"Fetches the historical data for a given asset and saves it to his_market_data.json\",\n",
    "      \"input_parameters\": [\n",
    "        \"asset (str) - The asset to fetch data for\"\n",
    "      ],\n",
    "      \"output\": \"None\"\n",
    "    },\n",
    "    {\n",
    "      \"name\": \"cleanup_old_data\",\n",
    "      \"description\": \"Deletes older data from market_data.json and his_market_data.json that are older than 24 hours\",\n",
    "      \"input_parameters\": [],\n",
    "      \"output\": \"None\"\n",
    "    }\n",
    "  ]\n",
    "}\n"
   ]
  },
  {
   "cell_type": "code",
   "execution_count": null,
   "id": "8d56c219",
   "metadata": {},
   "outputs": [],
   "source": [
    "json_content = {\n",
    "    \"functions\": [\n",
    "        {\n",
    "            \"name\": \"fetch_present_data_and_save\",\n",
    "            \"description\": \"Fetches the present data for a given asset and saves it to market_data.json\",\n",
    "            \"input_parameters\": [\"asset (str) - The asset to fetch data for\"],\n",
    "            \"output\": \"None\"\n",
    "        },\n",
    "        # Add more functions as needed\n",
    "    ]\n",
    "}\n",
    "\n",
    "# Specify the file path to save the JSON content\n",
    "file_path = 'function_map.json'\n",
    "\n",
    "# Save the JSON content to the specified file\n",
    "with open(file_path, 'w') as json_file:\n",
    "    json.dump(json_content, json_file, indent=4)\n",
    "\n",
    "print(f\"JSON content saved to {file_path}\")\n"
   ]
  }
 ],
 "metadata": {
  "kernelspec": {
   "display_name": "Python 3 (ipykernel)",
   "language": "python",
   "name": "python3"
  },
  "language_info": {
   "codemirror_mode": {
    "name": "ipython",
    "version": 3
   },
   "file_extension": ".py",
   "mimetype": "text/x-python",
   "name": "python",
   "nbconvert_exporter": "python",
   "pygments_lexer": "ipython3",
   "version": "3.11.4"
  }
 },
 "nbformat": 4,
 "nbformat_minor": 5
}
