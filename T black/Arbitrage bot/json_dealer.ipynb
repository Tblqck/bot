{
 "cells": [
  {
   "cell_type": "code",
   "execution_count": null,
   "id": "d80ddf77",
   "metadata": {},
   "outputs": [],
   "source": [
    "import json\n",
    "from datetime import datetime, timedelta\n",
    "\n",
    "def clean_up_json_data(filename):\n",
    "    try:\n",
    "        with open(filename, 'r') as data_file:\n",
    "            data = json.load(data_file)\n",
    "    except (FileNotFoundError, json.JSONDecodeError):\n",
    "        data = []\n",
    "\n",
    "    # Calculate the cutoff time (24 hours ago from now)\n",
    "    cutoff_time = datetime.now() - timedelta(days=1)\n",
    "\n",
    "    # Filter out data entries older than 24 hours\n",
    "    cleaned_data = [entry for entry in data if datetime.strptime(entry['timestamp'], '%Y-%m-%d %H:%M:%S') > cutoff_time]\n",
    "\n",
    "    # Save the cleaned data back to the file\n",
    "    with open(filename, 'w') as data_file:\n",
    "        json.dump(cleaned_data, data_file, indent=4)\n",
    "\n",
    "    print(f'Cleaned up {len(data) - len(cleaned_data)} entries from {filename}')\n",
    "\n",
    "# Call the function for both data files\n",
    "clean_up_json_data('market_data.json')\n",
    "clean_up_json_data('his_market_data.json')\n"
   ]
  }
 ],
 "metadata": {
  "kernelspec": {
   "display_name": "Python 3 (ipykernel)",
   "language": "python",
   "name": "python3"
  },
  "language_info": {
   "codemirror_mode": {
    "name": "ipython",
    "version": 3
   },
   "file_extension": ".py",
   "mimetype": "text/x-python",
   "name": "python",
   "nbconvert_exporter": "python",
   "pygments_lexer": "ipython3",
   "version": "3.11.4"
  }
 },
 "nbformat": 4,
 "nbformat_minor": 5
}
