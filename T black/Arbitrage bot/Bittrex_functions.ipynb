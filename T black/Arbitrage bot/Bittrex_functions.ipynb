{
 "cells": [
  {
   "cell_type": "code",
   "execution_count": 6,
   "id": "d77371e0",
   "metadata": {},
   "outputs": [
    {
     "name": "stdout",
     "output_type": "stream",
     "text": [
      "MATIC present data appended to market_data.json\n"
     ]
    }
   ],
   "source": [
    "import requests\n",
    "import json\n",
    "from datetime import datetime\n",
    "from exchange_markets import exchange_market_lists\n",
    "\n",
    "def fetch_present_data_and_save_bittrex(asset):\n",
    "    base_url = 'https://api.bittrex.com/v3/markets/{symbol}/ticker'\n",
    "    trading_pair = exchange_market_lists['Bittrex'][asset]\n",
    "    url = base_url.format(symbol=trading_pair)\n",
    "    \n",
    "    response = requests.get(url)\n",
    "    \n",
    "    if response.status_code == 200:\n",
    "        data = response.json()\n",
    "        present_data = {\n",
    "            'exchange': 'Bittrex',\n",
    "            'asset': asset,\n",
    "            'trading_pair': trading_pair,\n",
    "            'price': data['lastTradeRate'],\n",
    "            'fetch_time': datetime.now().strftime('%Y-%m-%d %H:%M:%S')\n",
    "        }\n",
    "\n",
    "        try:\n",
    "            # Load existing data from JSON file\n",
    "            with open('market_data.json', 'r') as market_data_file:\n",
    "                existing_data = json.load(market_data_file)\n",
    "        except (FileNotFoundError, json.JSONDecodeError):\n",
    "            existing_data = []\n",
    "\n",
    "        # Append the new present data to existing data\n",
    "        existing_data.append(present_data)\n",
    "\n",
    "        # Save the updated data to JSON file\n",
    "        with open('market_data.json', 'w') as market_data_file:\n",
    "            json.dump(existing_data, market_data_file, indent=4)\n",
    "            print(f'{asset} present data appended to market_data.json')\n",
    "    else:\n",
    "        print(f\"Failed to fetch present data from Bittrex. Status code: {response.status_code}\")\n",
    "\n",
    "if __name__ == '__main__':\n",
    "    asset_to_fetch = 'MATIC'  # Specify the asset you want to fetch data for\n",
    "    fetch_present_data_and_save_bittrex(asset_to_fetch)\n"
   ]
  },
  {
   "cell_type": "code",
   "execution_count": 13,
   "id": "2dfe099c",
   "metadata": {},
   "outputs": [
    {
     "name": "stdout",
     "output_type": "stream",
     "text": [
      "Error occurred. Status Code: 400\n"
     ]
    }
   ],
   "source": [
    "import requests\n",
    "import json\n",
    "from datetime import datetime, timedelta\n",
    "from exchange_markets import exchange_market_lists\n",
    "\n",
    "def fetch_historical_data_and_save_bittrex(asset):\n",
    "    interval = 'DAY_1'  # 1 day interval\n",
    "    base_url = 'https://api.bittrex.com/v3/markets/{symbol}/candles/{interval}/recent'\n",
    "    trading_pair = exchange_market_lists['Bittrex'][asset]\n",
    "    \n",
    "    url = base_url.format(symbol=trading_pair, interval=interval)\n",
    "    response = requests.get(url)\n",
    "    \n",
    "    if response.status_code == 200:\n",
    "        data = response.json()\n",
    "        historical_data = []\n",
    "\n",
    "        for candle in data:\n",
    "            timestamp = candle['startsAt'][:-1]  # Remove the trailing 'Z'\n",
    "            open_price = candle['open']\n",
    "            high_price = candle['high']\n",
    "            low_price = candle['low']\n",
    "            close_price = candle['close']\n",
    "            \n",
    "            readable_timestamp = datetime.fromisoformat(timestamp).strftime('%Y-%m-%d %H:%M:%S')\n",
    "            historical_data.append({\n",
    "                'exchange': 'Bittrex',\n",
    "                'asset': asset,\n",
    "                'trading_pair': trading_pair,\n",
    "                'timestamp': readable_timestamp,\n",
    "                'open': open_price,\n",
    "                'high': high_price,\n",
    "                'low': low_price,\n",
    "                'close': close_price\n",
    "            })\n",
    "\n",
    "        try:\n",
    "            # Load existing historical data from JSON file\n",
    "            with open('his_market_data.json', 'r') as his_market_data_file:\n",
    "                existing_data = json.load(his_market_data_file)\n",
    "        except (FileNotFoundError, json.JSONDecodeError):\n",
    "            existing_data = []\n",
    "\n",
    "        # Append the new historical data to existing data\n",
    "        existing_data.extend(historical_data)\n",
    "\n",
    "        # Save the updated data to JSON file\n",
    "        with open('his_market_data.json', 'w') as his_market_data_file:\n",
    "            json.dump(existing_data, his_market_data_file, indent=4)\n",
    "            print(f'Historical data for {asset} appended to his_market_data.json')\n",
    "    else:\n",
    "        print('Error occurred. Status Code:', response.status_code)\n",
    "\n",
    "if __name__ == '__main__':\n",
    "    asset_to_fetch = 'MATIC'  # Specify the asset you want to fetch data for\n",
    "    fetch_historical_data_and_save_bittrex(asset_to_fetch)\n"
   ]
  },
  {
   "cell_type": "code",
   "execution_count": null,
   "id": "2419b6ba",
   "metadata": {},
   "outputs": [],
   "source": [
    "\n"
   ]
  }
 ],
 "metadata": {
  "kernelspec": {
   "display_name": "Python 3 (ipykernel)",
   "language": "python",
   "name": "python3"
  },
  "language_info": {
   "codemirror_mode": {
    "name": "ipython",
    "version": 3
   },
   "file_extension": ".py",
   "mimetype": "text/x-python",
   "name": "python",
   "nbconvert_exporter": "python",
   "pygments_lexer": "ipython3",
   "version": "3.11.4"
  }
 },
 "nbformat": 4,
 "nbformat_minor": 5
}
