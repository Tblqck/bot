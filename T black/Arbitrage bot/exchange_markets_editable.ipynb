{
 "cells": [
  {
   "cell_type": "code",
   "execution_count": null,
   "id": "61b78410",
   "metadata": {},
   "outputs": [],
   "source": [
    "#N/B ----- in here i edit the mexchange list and symbol for each exchange  and overwrite the .py file."
   ]
  },
  {
   "cell_type": "code",
   "execution_count": null,
   "id": "b50e4007",
   "metadata": {},
   "outputs": [],
   "source": []
  },
  {
   "cell_type": "code",
   "execution_count": 2,
   "id": "78dfa3ee",
   "metadata": {},
   "outputs": [
    {
     "name": "stdout",
     "output_type": "stream",
     "text": [
      "Overwriting exchange_markets.py\n"
     ]
    }
   ],
   "source": [
    "%%writefile exchange_markets.py\n",
    "# exchange_markets.py\n",
    "\n",
    "# exchange_markets.py\n",
    "\n",
    "exchange_market_lists = {\n",
    "    'Binance': {\n",
    "        'MATIC': 'MATICUSDT',\n",
    "        'AAVE': 'AAVEUSDT',\n",
    "        'ETH': 'ETHUSDT',\n",
    "        'QUICK':'QUICKUSDT',\n",
    "        \n",
    "        \n",
    "        # Add or modify more assets and trading pairs for Binance\n",
    "    },\n",
    "    \n",
    "#---------------------------------------------------------------------------------------------------------------\n",
    "    'Kraken': {\n",
    "        'MATIC': 'MATICUSD',\n",
    "        'BTC': 'XBTUSD',\n",
    "        'ETH': 'ETHUSD',\n",
    "        # Add or modify more assets and trading pairs for Kraken\n",
    "    },\n",
    "    \n",
    "#---------------------------------------------------------------------------------------------------------------\n",
    "    'coinbase': {\n",
    "        'MATIC': 'MATIC-USD',\n",
    "        'BTC': 'XBTUSD',\n",
    "        'ETH': 'ETHUSD',\n",
    "        # Add or modify more assets and trading pairs for Kraken\n",
    "    },\n",
    "#---------------------------------------------------------------------------------------------------------------\n",
    "    'Bittrex': {\n",
    "        'MATIC':'MATIC-USDT',\n",
    "        'BTC': 'XBTUSD',\n",
    "        'ETH': 'ETHUSD',\n",
    "        # Add or modify more assets and trading pairs for Kraken\n",
    "    },\n",
    "    \n",
    "    # Add or modify more exchanges and their asset mappings here\n",
    "}\n"
   ]
  },
  {
   "cell_type": "code",
   "execution_count": 1,
   "id": "afc965e0",
   "metadata": {},
   "outputs": [
    {
     "name": "stdout",
     "output_type": "stream",
     "text": [
      "Binance Market List:\n",
      "MATIC: MATICUSDT\n",
      "AAVE: AAVEUSDT\n",
      "ETH: ETHUSDT\n",
      "QUICK: QUICKUSDT\n",
      "\n",
      "\n",
      "Kraken Market List:\n",
      "MATIC: MATICUSD\n",
      "BTC: XBTUSD\n",
      "ETH: ETHUSD\n",
      "\n",
      "\n",
      "coinbase Market List:\n",
      "MATIC: MATIC-USD\n",
      "BTC: XBTUSD\n",
      "ETH: ETHUSD\n",
      "\n",
      "\n",
      "Bittrex Market List:\n",
      "MATIC: MATIC-USDT\n",
      "BTC: XBTUSD\n",
      "ETH: ETHUSD\n",
      "\n",
      "\n"
     ]
    }
   ],
   "source": [
    "#VIEW IF THE OVERWRITE HAS TAKEN EFFECT N/B IT SOMETIME SLOWS EVEN AFTER APPEARING HERE.\n",
    "\n",
    "\n",
    "from exchange_markets import exchange_market_lists\n",
    "\n",
    "# Print the exchange market lists\n",
    "for exchange, market_list in exchange_market_lists.items():\n",
    "    print(f\"{exchange} Market List:\")\n",
    "    for asset, trading_pair in market_list.items():\n",
    "        print(f\"{asset}: {trading_pair}\")\n",
    "    print(\"\\n\")\n"
   ]
  },
  {
   "cell_type": "code",
   "execution_count": null,
   "id": "a58f8981",
   "metadata": {},
   "outputs": [],
   "source": []
  }
 ],
 "metadata": {
  "kernelspec": {
   "display_name": "Python 3 (ipykernel)",
   "language": "python",
   "name": "python3"
  },
  "language_info": {
   "codemirror_mode": {
    "name": "ipython",
    "version": 3
   },
   "file_extension": ".py",
   "mimetype": "text/x-python",
   "name": "python",
   "nbconvert_exporter": "python",
   "pygments_lexer": "ipython3",
   "version": "3.11.4"
  }
 },
 "nbformat": 4,
 "nbformat_minor": 5
}
