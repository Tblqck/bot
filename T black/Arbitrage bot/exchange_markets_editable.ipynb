{
 "cells": [
  {
   "cell_type": "code",
   "execution_count": null,
   "id": "3962745b",
   "metadata": {},
   "outputs": [],
   "source": [
    "# exchange_markets.py\n",
    "\n",
    "exchange_market_lists = {\n",
    "    'Binance': {\n",
    "        'MATIC': 'MATICUSDT',\n",
    "        'BTC': 'BTCUSDT',\n",
    "        'ETH': 'ETHUSDT',\n",
    "        # Add or modify more assets and trading pairs for Binance\n",
    "    },\n",
    "    \n",
    "#---------------------------------------------------------------------------------------------------------------\n",
    "    'Kraken': {\n",
    "        'MATIC': 'MATICEUR',\n",
    "        'BTC': 'XBTUSD',\n",
    "        'ETH': 'ETHUSD',\n",
    "        # Add or modify more assets and trading pairs for Kraken\n",
    "    },\n",
    "    \n",
    "#---------------------------------------------------------------------------------------------------------------\n",
    "    # Add or modify more exchanges and their asset mappings here\n",
    "}\n"
   ]
  },
  {
   "cell_type": "code",
   "execution_count": 1,
   "id": "37616990",
   "metadata": {},
   "outputs": [
    {
     "name": "stdout",
     "output_type": "stream",
     "text": [
      "Writing exchange_markets.py\n"
     ]
    }
   ],
   "source": [
    "%%writefile exchange_markets.py\n",
    "# exchange_markets.py\n",
    "\n",
    "exchange_market_lists = {\n",
    "    'Binance': {\n",
    "        'MATIC': 'MATICUSDT',\n",
    "        'BTC': 'BTCUSDT',\n",
    "        'ETH': 'ETHUSDT',\n",
    "        # Add or modify more assets and trading pairs for Binance\n",
    "    },\n",
    "    \n",
    "#---------------------------------------------------------------------------------------------------------------\n",
    "    'Kraken': {\n",
    "        'MATIC': 'MATICEUR',\n",
    "        'BTC': 'XBTUSD',\n",
    "        'ETH': 'ETHUSD',\n",
    "        # Add or modify more assets and trading pairs for Kraken\n",
    "    },\n",
    "    \n",
    "#---------------------------------------------------------------------------------------------------------------\n",
    "    # Add or modify more exchanges and their asset mappings here\n",
    "}\n"
   ]
  },
  {
   "cell_type": "code",
   "execution_count": null,
   "id": "7ce5ea22",
   "metadata": {},
   "outputs": [],
   "source": []
  }
 ],
 "metadata": {
  "kernelspec": {
   "display_name": "Python 3 (ipykernel)",
   "language": "python",
   "name": "python3"
  },
  "language_info": {
   "codemirror_mode": {
    "name": "ipython",
    "version": 3
   },
   "file_extension": ".py",
   "mimetype": "text/x-python",
   "name": "python",
   "nbconvert_exporter": "python",
   "pygments_lexer": "ipython3",
   "version": "3.11.4"
  }
 },
 "nbformat": 4,
 "nbformat_minor": 5
}
