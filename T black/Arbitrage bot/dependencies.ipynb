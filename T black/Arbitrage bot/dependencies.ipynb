{
 "cells": [
  {
   "cell_type": "code",
   "execution_count": 1,
   "id": "bb9c31aa",
   "metadata": {},
   "outputs": [
    {
     "name": "stdout",
     "output_type": "stream",
     "text": [
      "websocket-client is not installed. Installing...\n",
      "websocket-client has been installed.\n",
      "threading is already installed.\n",
      "requests is already installed.\n",
      "json is already installed.\n"
     ]
    }
   ],
   "source": [
    "import importlib\n",
    "import subprocess\n",
    "\n",
    "def install_dependency(package):\n",
    "    subprocess.call([\"pip\", \"install\", package])\n",
    "\n",
    "def check_and_install_dependencies(dependencies):\n",
    "    for package in dependencies:\n",
    "        try:\n",
    "            importlib.import_module(package)\n",
    "            print(f\"{package} is already installed.\")\n",
    "        except ImportError:\n",
    "            print(f\"{package} is not installed. Installing...\")\n",
    "            install_dependency(package)\n",
    "            print(f\"{package} has been installed.\")\n",
    "\n",
    "if __name__ == \"__main__\":\n",
    "    required_dependencies = [\"websocket-client\",\"threading\", \"requests\", \"json\"]\n",
    "    check_and_install_dependencies(required_dependencies)\n"
   ]
  },
  {
   "cell_type": "code",
   "execution_count": null,
   "id": "888af78a",
   "metadata": {},
   "outputs": [],
   "source": []
  }
 ],
 "metadata": {
  "kernelspec": {
   "display_name": "Python 3 (ipykernel)",
   "language": "python",
   "name": "python3"
  },
  "language_info": {
   "codemirror_mode": {
    "name": "ipython",
    "version": 3
   },
   "file_extension": ".py",
   "mimetype": "text/x-python",
   "name": "python",
   "nbconvert_exporter": "python",
   "pygments_lexer": "ipython3",
   "version": "3.11.4"
  }
 },
 "nbformat": 4,
 "nbformat_minor": 5
}
