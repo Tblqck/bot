{
 "cells": [
  {
   "cell_type": "code",
   "execution_count": 5,
   "id": "791f7a73",
   "metadata": {},
   "outputs": [
    {
     "name": "stdout",
     "output_type": "stream",
     "text": [
      "Error occurred. Status Code: 403\n"
     ]
    }
   ],
   "source": [
    "import requests\n",
    "from datetime import datetime, timedelta\n",
    "\n",
    "def fetch_poloniex_historical_data(asset):\n",
    "    period = 86400  # 1 day interval (in seconds)\n",
    "    start = int((datetime.now() - timedelta(days=30)).timestamp())\n",
    "    end = int(datetime.now().timestamp())\n",
    "    \n",
    "    base_url = 'https://poloniex.com/public'\n",
    "    trading_pair = f'usd_{asset}'\n",
    "    \n",
    "    params = {\n",
    "        'command': 'returnChartData',\n",
    "        'currencyPair': trading_pair,\n",
    "        'start': start,\n",
    "        'end': end,\n",
    "        'period': period\n",
    "    }\n",
    "    \n",
    "    response = requests.get(base_url, params=params)\n",
    "\n",
    "    if response.status_code == 200:\n",
    "        data = response.json()\n",
    "        \n",
    "        for entry in data:\n",
    "            timestamp = int(entry['date'])\n",
    "            readable_timestamp = datetime.fromtimestamp(timestamp).strftime('%Y-%m-%d %H:%M:%S')\n",
    "            open_price = entry['open']\n",
    "            high_price = entry['high']\n",
    "            low_price = entry['low']\n",
    "            close_price = entry['close']\n",
    "\n",
    "            print(f'Exchange: Poloniex')\n",
    "            print(f'Asset: {asset}')\n",
    "            print(f'Trading Pair: {trading_pair}')\n",
    "            print(f'Timestamp: {readable_timestamp}')\n",
    "            print(f'Open Price: {open_price}')\n",
    "            print(f'High Price: {high_price}')\n",
    "            print(f'Low Price: {low_price}')\n",
    "            print(f'Close Price: {close_price}')\n",
    "            print('--------------------')\n",
    "    else:\n",
    "        print('Error occurred. Status Code:', response.status_code)\n",
    "\n",
    "if __name__ == '__main__':\n",
    "    asset_to_fetch = 'matic'  # Specify the asset you want to fetch data for\n",
    "    fetch_poloniex_historical_data(asset_to_fetch)\n"
   ]
  },
  {
   "cell_type": "code",
   "execution_count": null,
   "id": "25bc2201",
   "metadata": {},
   "outputs": [],
   "source": []
  }
 ],
 "metadata": {
  "kernelspec": {
   "display_name": "Python 3 (ipykernel)",
   "language": "python",
   "name": "python3"
  },
  "language_info": {
   "codemirror_mode": {
    "name": "ipython",
    "version": 3
   },
   "file_extension": ".py",
   "mimetype": "text/x-python",
   "name": "python",
   "nbconvert_exporter": "python",
   "pygments_lexer": "ipython3",
   "version": "3.11.4"
  }
 },
 "nbformat": 4,
 "nbformat_minor": 5
}
