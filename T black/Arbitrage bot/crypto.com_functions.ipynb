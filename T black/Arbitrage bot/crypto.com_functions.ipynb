{
 "cells": [
  {
   "cell_type": "code",
   "execution_count": null,
   "id": "43331e97",
   "metadata": {},
   "outputs": [],
   "source": [
    "import requests\n",
    "import json\n",
    "from datetime import datetime\n",
    "\n",
    "# Mapping of assets to trading pairs for the Crypto.com Exchange\n",
    "exchange_market_lists = {\n",
    "    'Crypto.com': {\n",
    "        'MATIC': 'MATIC_USDT'  # Adjust this based on the actual trading pair\n",
    "    }\n",
    "}\n",
    "\n",
    "def fetch_present_data_and_save(asset):\n",
    "    base_url = 'https://api.crypto.com/v2/public/get-ticker'\n",
    "    trading_pair = exchange_market_lists['Crypto.com'][asset]\n",
    "    params = {'instrument_name': trading_pair}\n",
    "    response = requests.get(base_url, params=params)\n",
    "\n",
    "    if response.status_code == 200:\n",
    "        data = response.json()['result']['data'][0]\n",
    "        present_data = {\n",
    "            'exchange': 'Crypto.com',\n",
    "            'asset': asset,\n",
    "            'trading_pair': trading_pair,\n",
    "            'price': data['a'],\n",
    "            'volume': data['v'],\n",
    "            'liquidity_score': None,\n",
    "            'fetch_time': datetime.now().strftime('%Y-%m-%d %H:%M:%S')\n",
    "        }\n",
    "\n",
    "        try:\n",
    "            # Load existing data from JSON file\n",
    "            with open('market_data.json', 'r') as market_data_file:\n",
    "                existing_data = json.load(market_data_file)\n",
    "        except (FileNotFoundError, json.JSONDecodeError):\n",
    "            existing_data = []\n",
    "\n",
    "        # Append the new present data to existing data\n",
    "        existing_data.append(present_data)\n",
    "\n",
    "        # Save the updated data to JSON file\n",
    "        with open('market_data.json', 'w') as market_data_file:\n",
    "            json.dump(existing_data, market_data_file, indent=4)\n",
    "            print(f'{asset} present data appended to market_data.json')\n",
    "    else:\n",
    "        print('Error occurred. Status Code:', response.status_code)\n",
    "\n",
    "if __name__ == '__main__':\n",
    "    asset_to_fetch = 'MATIC'  # Specify the asset you want to fetch data for\n",
    "    fetch_present_data_and_save(asset_to_fetch)\n"
   ]
  }
 ],
 "metadata": {
  "kernelspec": {
   "display_name": "Python 3 (ipykernel)",
   "language": "python",
   "name": "python3"
  },
  "language_info": {
   "codemirror_mode": {
    "name": "ipython",
    "version": 3
   },
   "file_extension": ".py",
   "mimetype": "text/x-python",
   "name": "python",
   "nbconvert_exporter": "python",
   "pygments_lexer": "ipython3",
   "version": "3.11.4"
  }
 },
 "nbformat": 4,
 "nbformat_minor": 5
}
